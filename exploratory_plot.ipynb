{
 "cells": [
  {
   "cell_type": "code",
   "execution_count": 1,
   "metadata": {},
   "outputs": [],
   "source": [
    "import pandas as pd\n",
    "import numpy as np\n",
    "import scipy as sp\n",
    "import plotly.plotly as py\n",
    "import plotly.plotly as py\n",
    "import plotly.figure_factory as ff\n",
    "import torch\n",
    "from typing import List, Dict\n",
    "from pprint import pprint"
   ]
  },
  {
   "cell_type": "code",
   "execution_count": 2,
   "metadata": {},
   "outputs": [],
   "source": [
    "# -- Local imports\n",
    "from utils.elasticsearch_utils import get_all_hits, flatten_dict, flatten_dict_keys, \\\n",
    "    get_hits_dsl_query, \\\n",
    "    get_hits_dict_query, update_fields_select_df"
   ]
  },
  {
   "cell_type": "code",
   "execution_count": null,
   "metadata": {},
   "outputs": [],
   "source": [
    "# -- Useful paths\n",
    "OUT_DIR = \"results/reports\"\n",
    "EDATA_FILTER_FILE = \"configs/edata_filter_file.csv\""
   ]
  },
  {
   "cell_type": "code",
   "execution_count": null,
   "metadata": {},
   "outputs": [],
   "source": [
    "# -- Example of elasticsearch data fetch\n",
    "\n",
    "# -- Gather all data from elasticsearch\n",
    "full_edata: List[Dict] = get_all_hits()\n",
    "\n",
    "edata: List[Dict] = get_hits_dsl_query({\n",
    "    \"match\": {\n",
    "        \"args.title\": {\n",
    "            \"query\": \"andrei\",\n",
    "            \"type\": \"phrase\"\n",
    "        }\n",
    "    }\n",
    "})\n",
    "\n",
    "edata: List[Dict] = get_hits_dict_query({\n",
    "    \"args.title\": [\"andrei\"], \n",
    "    \"args.tasks.datasets\": [\"mnist\", \"cifar10\"]\n",
    "})"
   ]
  },
  {
   "cell_type": "code",
   "execution_count": null,
   "metadata": {},
   "outputs": [],
   "source": [
    "# -- Example of Reporting data fetch\n",
    "rdata: List[Dict] = None\n"
   ]
  },
  {
   "cell_type": "code",
   "execution_count": 4,
   "metadata": {
    "collapsed": true
   },
   "outputs": [],
   "source": [
    "# -- eDATA_FILTER_FILE Management\n",
    "data_keys = sorted(list(edata[0].keys()))  # Use tu update / initialize\n",
    "e_select_df, e_select_k = update_fields_select_df(None, data_keys, \n",
    "                                                  update_file=\"configs/edata_fields.csv\")\n",
    "\n",
    "# -- Reporting column filter Management\n",
    "data_keys = sorted(list(flatten_dict_keys(data[0]))  # Use tu update / initialize\n",
    "r_select_df, r_select_k = update_fields_select_df(None, data_keys, update_file=\"configs/reporting_fields.csv\")"
   ]
  },
  {
   "cell_type": "code",
   "execution_count": 12,
   "metadata": {
    "collapsed": true
   },
   "outputs": [],
   "source": [
    "# Generate table of values (remove variable sizes)\n",
    "NON_TABLE_DATA = ['_score', '_index', '_type', 'best_eval', 'last_eval', 'task_info', \n",
    "                  'model_summary']\n",
    "\n",
    "flat_data = []\n",
    "for x in data:\n",
    "    table_data = {k: v for k, v in x.items() if k not in NON_TABLE_DATA}\n",
    "    flat_data.append(flatten_dict(table_data))\n",
    "    \n",
    "df = pd.DataFrame(flat_data)\n",
    "\n",
    "# Select only keys in select_keys_r \n",
    "df = df[select_keys_col]\n",
    "df.to_csv(\"test.csv\")\n",
    "variable_args = []\n",
    "\n",
    "for cl in df.columns:\n",
    "    if cl.startswith(\"args\"):\n",
    "        if len(df[cl].unique()) > 1:\n",
    "            variable_args.append(cl)\n"
   ]
  },
  {
   "cell_type": "code",
   "execution_count": 4,
   "metadata": {
    "collapsed": true
   },
   "outputs": [],
   "source": [
    "# Analize Experiment \"Individual\"\n",
    "dfi = df[df[\"args.experiment\"] == \"individual\"]\n",
    "dfi[\"args._experiment_parameters.datasets\"] = dfi[\"args._experiment_parameters.datasets\"].apply(\n",
    "    lambda x: x[0])\n",
    "\n",
    "dfi[\"args.model.hidden_units\"] = dfi[\"args.model.hidden_units\"].apply(lambda x: str(x))\n",
    "dfi_base = dfi.groupby([\"args._experiment_parameters.datasets\", \"args.model.name\", \"args.model.hidden_units\"]).max()[[\n",
    "    \"best_eval_acc\"]]\n",
    "dfi_base.index.names = [\"dataset_name\", \"model_base_type\"]\n",
    "dfi_base.columns = [\"base_score\"]\n",
    "dfi_base[\"best_eval_acc\"] = dfi_base[\"best_eval_acc\"].apply(lambda x: x[0])\n",
    "dfi_base.to_csv(\"configs/base_scores\")"
   ]
  },
  {
   "cell_type": "code",
   "execution_count": null,
   "metadata": {},
   "outputs": [],
   "source": []
  }
 ],
 "metadata": {
  "kernelspec": {
   "display_name": "Python 3",
   "language": "python",
   "name": "python3"
  },
  "language_info": {
   "codemirror_mode": {
    "name": "ipython",
    "version": 3
   },
   "file_extension": ".py",
   "mimetype": "text/x-python",
   "name": "python",
   "nbconvert_exporter": "python",
   "pygments_lexer": "ipython3",
   "version": "3.6.5"
  }
 },
 "nbformat": 4,
 "nbformat_minor": 1
}
